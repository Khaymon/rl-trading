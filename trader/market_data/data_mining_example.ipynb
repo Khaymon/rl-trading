{
 "cells": [
  {
   "cell_type": "code",
   "execution_count": 1,
   "metadata": {
    "collapsed": true,
    "pycharm": {
     "name": "#%%\n"
    }
   },
   "outputs": [
    {
     "name": "stdout",
     "output_type": "stream",
     "text": [
      "Get DataFrame of AAPL with shape (4051, 8) from 2018-02-18 to 2020-09-19\n",
      "Get DataFrame of AAPL with shape (3609, 8) from 2020-09-19 to 2020-12-10\n",
      "Get DataFrame of AAPL with shape (3646, 8) from 2020-12-10 to 2021-03-06\n",
      "Get DataFrame of AAPL with shape (3834, 8) from 2021-03-06 to 2021-06-02\n",
      "Get DataFrame of AAPL with shape (4060, 8) from 2021-06-02 to 2021-09-01\n",
      "Waiting for 20 seconds\n"
     ]
    },
    {
     "name": "stderr",
     "output_type": "stream",
     "text": [
      "100%|██████████| 20/20 [00:20<00:00,  1.01s/it]\n"
     ]
    },
    {
     "name": "stdout",
     "output_type": "stream",
     "text": [
      "Get DataFrame of AAPL with shape (3996, 8) from 2021-09-01 to 2021-12-01\n",
      "Get DataFrame of AAPL with shape (3799, 8) from 2021-12-01 to 2022-02-26\n",
      "Get DataFrame of AAPL with shape (1981, 8) from 2022-02-26 to 2022-04-12\n",
      "Get DataFrame of GOOGL with shape (4678, 8) from 2018-02-18 to 2020-12-17\n",
      "Get DataFrame of GOOGL with shape (4683, 8) from 2020-12-17 to 2021-06-22\n",
      "Waiting for 20 seconds\n"
     ]
    },
    {
     "name": "stderr",
     "output_type": "stream",
     "text": [
      "100%|██████████| 20/20 [00:20<00:00,  1.01s/it]\n"
     ]
    },
    {
     "name": "stdout",
     "output_type": "stream",
     "text": [
      "Waiting for 20 seconds\n"
     ]
    },
    {
     "name": "stderr",
     "output_type": "stream",
     "text": [
      "100%|██████████| 20/20 [00:20<00:00,  1.01s/it]\n"
     ]
    },
    {
     "name": "stdout",
     "output_type": "stream",
     "text": [
      "Get DataFrame of GOOGL with shape (4849, 8) from 2021-06-22 to 2021-12-29\n",
      "Get DataFrame of GOOGL with shape (2801, 8) from 2021-12-29 to 2022-04-12\n",
      "Get DataFrame of TSLA with shape (4268, 8) from 2018-02-18 to 2020-09-29\n",
      "Get DataFrame of TSLA with shape (3911, 8) from 2020-09-29 to 2020-12-29\n",
      "Get DataFrame of TSLA with shape (3998, 8) from 2020-12-29 to 2021-04-01\n",
      "Waiting for 20 seconds\n"
     ]
    },
    {
     "name": "stderr",
     "output_type": "stream",
     "text": [
      "100%|██████████| 20/20 [00:20<00:00,  1.01s/it]\n"
     ]
    },
    {
     "name": "stdout",
     "output_type": "stream",
     "text": [
      "Waiting for 20 seconds\n"
     ]
    },
    {
     "name": "stderr",
     "output_type": "stream",
     "text": [
      "100%|██████████| 20/20 [00:20<00:00,  1.01s/it]\n"
     ]
    },
    {
     "name": "stdout",
     "output_type": "stream",
     "text": [
      "Waiting for 20 seconds\n"
     ]
    },
    {
     "name": "stderr",
     "output_type": "stream",
     "text": [
      "100%|██████████| 20/20 [00:20<00:00,  1.01s/it]\n"
     ]
    },
    {
     "name": "stdout",
     "output_type": "stream",
     "text": [
      "Get DataFrame of TSLA with shape (4337, 8) from 2021-04-01 to 2021-07-10\n",
      "Get DataFrame of TSLA with shape (4666, 8) from 2021-07-10 to 2021-10-26\n",
      "Get DataFrame of TSLA with shape (4137, 8) from 2021-10-26 to 2022-01-29\n",
      "Get DataFrame of TSLA with shape (3176, 8) from 2022-01-29 to 2022-04-12\n",
      "Get DataFrame of BABA with shape (5193, 8) from 2018-02-18 to 2020-10-17\n",
      "Waiting for 20 seconds\n"
     ]
    },
    {
     "name": "stderr",
     "output_type": "stream",
     "text": [
      "100%|██████████| 20/20 [00:20<00:00,  1.01s/it]\n"
     ]
    },
    {
     "name": "stdout",
     "output_type": "stream",
     "text": [
      "Waiting for 20 seconds\n"
     ]
    },
    {
     "name": "stderr",
     "output_type": "stream",
     "text": [
      "100%|██████████| 20/20 [00:20<00:00,  1.01s/it]\n"
     ]
    },
    {
     "name": "stdout",
     "output_type": "stream",
     "text": [
      "Waiting for 20 seconds\n"
     ]
    },
    {
     "name": "stderr",
     "output_type": "stream",
     "text": [
      "100%|██████████| 20/20 [00:20<00:00,  1.01s/it]\n"
     ]
    },
    {
     "name": "stdout",
     "output_type": "stream",
     "text": [
      "Get DataFrame of BABA with shape (4449, 8) from 2020-10-17 to 2021-02-02\n",
      "Get DataFrame of BABA with shape (4985, 8) from 2021-02-02 to 2021-05-27\n",
      "Get DataFrame of BABA with shape (4808, 8) from 2021-05-27 to 2021-09-16\n",
      "Get DataFrame of BABA with shape (4527, 8) from 2021-09-16 to 2021-12-29\n",
      "Get DataFrame of BABA with shape (4447, 8) from 2021-12-29 to 2022-04-08\n",
      "Waiting for 20 seconds\n"
     ]
    },
    {
     "name": "stderr",
     "output_type": "stream",
     "text": [
      "100%|██████████| 20/20 [00:20<00:00,  1.01s/it]\n"
     ]
    },
    {
     "name": "stdout",
     "output_type": "stream",
     "text": [
      "Waiting for 20 seconds\n"
     ]
    },
    {
     "name": "stderr",
     "output_type": "stream",
     "text": [
      "100%|██████████| 20/20 [00:20<00:00,  1.01s/it]\n"
     ]
    },
    {
     "name": "stdout",
     "output_type": "stream",
     "text": [
      "Get DataFrame of BABA with shape (128, 8) from 2022-04-08 to 2022-04-12\n",
      "Get DataFrame of AMD with shape (4406, 8) from 2018-02-18 to 2020-09-30\n",
      "Get DataFrame of AMD with shape (4429, 8) from 2020-09-30 to 2021-01-13\n",
      "Get DataFrame of AMD with shape (4412, 8) from 2021-01-13 to 2021-04-27\n",
      "Get DataFrame of AMD with shape (4465, 8) from 2021-04-27 to 2021-08-07\n",
      "Waiting for 20 seconds\n"
     ]
    },
    {
     "name": "stderr",
     "output_type": "stream",
     "text": [
      "100%|██████████| 20/20 [00:20<00:00,  1.01s/it]\n"
     ]
    },
    {
     "name": "stdout",
     "output_type": "stream",
     "text": [
      "Waiting for 20 seconds\n"
     ]
    },
    {
     "name": "stderr",
     "output_type": "stream",
     "text": [
      "100%|██████████| 20/20 [00:20<00:00,  1.01s/it]\n"
     ]
    },
    {
     "name": "stdout",
     "output_type": "stream",
     "text": [
      "Waiting for 20 seconds\n"
     ]
    },
    {
     "name": "stderr",
     "output_type": "stream",
     "text": [
      "100%|██████████| 20/20 [00:20<00:00,  1.01s/it]\n"
     ]
    },
    {
     "name": "stdout",
     "output_type": "stream",
     "text": [
      "Get DataFrame of AMD with shape (4541, 8) from 2021-08-07 to 2021-11-19\n",
      "Get DataFrame of AMD with shape (4138, 8) from 2021-11-19 to 2022-02-25\n",
      "Get DataFrame of AMD with shape (2043, 8) from 2022-02-25 to 2022-04-12\n"
     ]
    },
    {
     "data": {
      "text/plain": "[            v        vw         o         c         h         l  \\\n 0      5936.0   87.6562   87.6000   87.7425   87.7425   87.6000   \n 1      6576.0   87.7096   87.7475   87.6300   87.7500   87.6300   \n 2      9044.0   87.5446   87.5025   87.5125   87.6200   87.5000   \n 3     11072.0   87.8178   87.6200   87.8725   87.8750   87.6200   \n 4     13144.0   88.0070   87.8750   88.1100   88.1925   87.8750   \n ...       ...       ...       ...       ...       ...       ...   \n 1976  10245.0  165.7449  165.7000  165.7400  165.8300  165.7000   \n 1977  24195.0  165.6886  165.7200  165.6700  165.7500  165.6601   \n 1978  16136.0  165.5629  165.6900  165.5100  165.6900  165.5100   \n 1979  34690.0  165.5061  165.5000  165.5600  165.5600  165.4400   \n 1980  25297.0  165.3864  165.5500  165.2600  165.5600  165.2500   \n \n                        t    n ticker  \n 0    2020-06-22 07:51:00   20   AAPL  \n 1    2020-06-22 08:06:00   30   AAPL  \n 2    2020-06-22 08:21:00   48   AAPL  \n 3    2020-06-22 08:36:00   41   AAPL  \n 4    2020-06-22 08:51:00   66   AAPL  \n ...                  ...  ...    ...  \n 1976 2022-04-11 22:45:00  208   AAPL  \n 1977 2022-04-11 23:00:00  183   AAPL  \n 1978 2022-04-11 23:15:00  249   AAPL  \n 1979 2022-04-11 23:30:00  303   AAPL  \n 1980 2022-04-11 23:45:00  441   AAPL  \n \n [28976 rows x 9 columns],\n            v         vw        o        c        h        l  \\\n 0      111.0  1426.7707  1426.74  1426.74  1426.74  1426.74   \n 1     1191.0  1425.0253  1425.00  1425.00  1425.00  1425.00   \n 2      835.0  1426.6624  1427.02  1426.00  1427.02  1426.00   \n 3     1092.0  1426.4807  1428.00  1425.00  1428.00  1425.00   \n 4      215.0  1425.3519  1425.31  1425.31  1425.31  1425.31   \n ...      ...        ...      ...      ...      ...      ...   \n 2796   659.0  2583.4190  2583.60  2583.60  2583.60  2583.60   \n 2797   288.0  2584.6643  2584.95  2584.95  2584.95  2584.95   \n 2798   108.0  2581.0394  2581.00  2581.00  2581.00  2581.00   \n 2799   598.0  2580.5673  2580.00  2580.00  2580.00  2580.00   \n 2800  1264.0  2579.9080  2580.80  2579.00  2580.80  2579.00   \n \n                        t    n ticker  \n 0    2020-06-22 10:52:00    2  GOOGL  \n 1    2020-06-22 11:22:00   21  GOOGL  \n 2    2020-06-22 11:52:00   39  GOOGL  \n 3    2020-06-22 12:22:00   52  GOOGL  \n 4    2020-06-22 12:37:00    5  GOOGL  \n ...                  ...  ...    ...  \n 2796 2022-04-11 21:15:00   29  GOOGL  \n 2797 2022-04-11 21:30:00   12  GOOGL  \n 2798 2022-04-11 21:45:00    8  GOOGL  \n 2799 2022-04-11 23:15:00  100  GOOGL  \n 2800 2022-04-11 23:45:00   32  GOOGL  \n \n [17011 rows x 9 columns],\n             v        vw        o         c        h         l  \\\n 0      3525.0  200.1091  200.348  200.2000  200.348  200.0000   \n 1      3330.0  200.7612  200.826  200.8260  200.826  200.8260   \n 2      2040.0  201.1634  201.200  201.2000  201.200  201.2000   \n 3      1040.0  200.8043  200.800  200.8000  200.800  200.8000   \n 4      2180.0  200.5267  200.500  200.5020  200.502  200.5000   \n ...       ...       ...      ...       ...      ...       ...   \n 3171  10962.0  967.0030  967.420  967.0500  967.420  966.2001   \n 3172   7551.0  966.8646  967.000  966.7800  967.020  966.2000   \n 3173  17018.0  965.2611  966.570  964.2400  966.750  963.6700   \n 3174   4742.0  964.8166  965.000  964.5499  965.490  964.3300   \n 3175  32982.0  962.8551  964.100  962.0000  964.100  962.0000   \n \n                        t     n ticker  \n 0    2020-06-22 07:53:00    33   TSLA  \n 1    2020-06-22 08:08:00    21   TSLA  \n 2    2020-06-22 08:53:00    22   TSLA  \n 3    2020-06-22 09:23:00    10   TSLA  \n 4    2020-06-22 09:53:00    18   TSLA  \n ...                  ...   ...    ...  \n 3171 2022-04-11 22:45:00   609   TSLA  \n 3172 2022-04-11 23:00:00   416   TSLA  \n 3173 2022-04-11 23:15:00  1069   TSLA  \n 3174 2022-04-11 23:30:00   344   TSLA  \n 3175 2022-04-11 23:45:00  1716   TSLA  \n \n [28493 rows x 9 columns],\n            v        vw         o       c       h       l                   t  \\\n 0     4509.0  220.0519  220.2900  219.94  220.29  219.94 2020-06-22 07:54:00   \n 1     2555.0  219.7822  219.9400  219.76  219.94  219.74 2020-06-22 08:09:00   \n 2     4036.0  220.0656  220.0000  220.30  220.30  219.90 2020-06-22 08:24:00   \n 3     2134.0  220.5144  220.3000  220.60  220.60  220.30 2020-06-22 08:39:00   \n 4     2705.0  220.5964  220.6000  220.62  220.62  220.57 2020-06-22 08:54:00   \n ..       ...       ...       ...     ...     ...     ...                 ...   \n 123   2438.0  101.3864  101.4100  101.38  101.41  101.38 2022-04-11 22:45:00   \n 124   1903.0  101.4007  101.4000  101.42  101.44  101.38 2022-04-11 23:00:00   \n 125  11386.0  101.3876  101.4200  101.36  101.43  101.35 2022-04-11 23:15:00   \n 126   6173.0  101.2884  101.3100  101.23  101.35  101.21 2022-04-11 23:30:00   \n 127  19649.0  101.1786  101.2499  101.00  101.34  101.00 2022-04-11 23:45:00   \n \n          n ticker  \n 0     32.0   BABA  \n 1     24.0   BABA  \n 2     26.0   BABA  \n 3     19.0   BABA  \n 4     19.0   BABA  \n ..     ...    ...  \n 123    8.0   BABA  \n 124   17.0   BABA  \n 125   35.0   BABA  \n 126   29.0   BABA  \n 127  160.0   BABA  \n \n [28537 rows x 9 columns],\n             v       vw      o        c      h      l                   t  \\\n 0       772.0  54.2000  54.20  54.2000  54.20  54.20 2020-06-22 07:56:00   \n 1       115.0  54.2000  54.20  54.2000  54.20  54.20 2020-06-22 08:11:00   \n 2       950.0  54.2551  54.25  54.2600  54.26  54.25 2020-06-22 08:26:00   \n 3      1146.0  54.2828  54.26  54.2600  54.34  54.26 2020-06-22 08:41:00   \n 4      1436.0  54.3705  54.35  54.4000  54.40  54.34 2020-06-22 08:56:00   \n ...       ...      ...    ...      ...    ...    ...                 ...   \n 2038   8284.0  97.1586  97.17  97.1500  97.19  97.12 2022-04-11 22:45:00   \n 2039   4588.0  97.1475  97.14  97.1100  97.21  97.11 2022-04-11 23:00:00   \n 2040  26297.0  97.0149  97.10  97.0100  97.10  96.91 2022-04-11 23:15:00   \n 2041  14303.0  96.9172  97.00  96.8801  97.04  96.88 2022-04-11 23:30:00   \n 2042  32917.0  96.7766  96.95  96.8000  96.99  96.60 2022-04-11 23:45:00   \n \n           n ticker  \n 0       4.0    AMD  \n 1       2.0    AMD  \n 2       7.0    AMD  \n 3      12.0    AMD  \n 4      21.0    AMD  \n ...     ...    ...  \n 2038  122.0    AMD  \n 2039   78.0    AMD  \n 2040  320.0    AMD  \n 2041  134.0    AMD  \n 2042  332.0    AMD  \n \n [28434 rows x 9 columns]]"
     },
     "execution_count": 1,
     "metadata": {},
     "output_type": "execute_result"
    }
   ],
   "source": [
    "import json\n",
    "from get_data import get_data\n",
    "\n",
    "with open(\"config.json\", \"r\") as config_file:\n",
    "    config_data = json.load(config_file)\n",
    "\n",
    "get_data(config_data)"
   ]
  },
  {
   "cell_type": "code",
   "execution_count": null,
   "outputs": [],
   "source": [],
   "metadata": {
    "collapsed": false,
    "pycharm": {
     "name": "#%%\n"
    }
   }
  }
 ],
 "metadata": {
  "kernelspec": {
   "display_name": "Python 3",
   "language": "python",
   "name": "python3"
  },
  "language_info": {
   "codemirror_mode": {
    "name": "ipython",
    "version": 2
   },
   "file_extension": ".py",
   "mimetype": "text/x-python",
   "name": "python",
   "nbconvert_exporter": "python",
   "pygments_lexer": "ipython2",
   "version": "2.7.6"
  }
 },
 "nbformat": 4,
 "nbformat_minor": 0
}