{
 "cells": [
  {
   "cell_type": "code",
   "execution_count": 1,
   "metadata": {
    "collapsed": true,
    "pycharm": {
     "name": "#%%\n"
    }
   },
   "outputs": [
    {
     "name": "stdout",
     "output_type": "stream",
     "text": [
      "Get DataFrame of AAPL with shape (4010, 8) from 2018-02-18 to 2020-09-24\n",
      "Get DataFrame of AAPL with shape (3640, 8) from 2020-09-24 to 2020-12-16\n",
      "Waiting for 20 seconds\n"
     ]
    },
    {
     "name": "stderr",
     "output_type": "stream",
     "text": [
      "100%|██████████| 20/20 [00:20<00:00,  1.01s/it]\n"
     ]
    },
    {
     "name": "stdout",
     "output_type": "stream",
     "text": [
      "Get DataFrame of AAPL with shape (3620, 8) from 2020-12-16 to 2021-03-12\n",
      "Get DataFrame of AAPL with shape (3875, 8) from 2021-03-12 to 2021-06-09\n",
      "Get DataFrame of AAPL with shape (4062, 8) from 2021-06-09 to 2021-09-09\n",
      "Get DataFrame of AAPL with shape (3964, 8) from 2021-09-09 to 2021-12-08\n",
      "Get DataFrame of AAPL with shape (3837, 8) from 2021-12-08 to 2022-03-08\n",
      "Waiting for 20 seconds\n"
     ]
    },
    {
     "name": "stderr",
     "output_type": "stream",
     "text": [
      "100%|██████████| 20/20 [00:20<00:00,  1.01s/it]\n"
     ]
    },
    {
     "name": "stdout",
     "output_type": "stream",
     "text": [
      "Waiting for 20 seconds\n"
     ]
    },
    {
     "name": "stderr",
     "output_type": "stream",
     "text": [
      "100%|██████████| 20/20 [00:20<00:00,  1.01s/it]\n"
     ]
    },
    {
     "name": "stdout",
     "output_type": "stream",
     "text": [
      "Waiting for 20 seconds\n"
     ]
    },
    {
     "name": "stderr",
     "output_type": "stream",
     "text": [
      "100%|██████████| 20/20 [00:20<00:00,  1.01s/it]\n"
     ]
    },
    {
     "name": "stdout",
     "output_type": "stream",
     "text": [
      "Get DataFrame of AAPL with shape (1598, 8) from 2022-03-08 to 2022-04-12\n"
     ]
    },
    {
     "data": {
      "text/plain": "[              v        vw         o         c         h         l  \\\n 0     2691072.0   90.3392   90.3253   90.5225   90.5225   90.2361   \n 1     5920272.0   90.6970   90.5208   90.7848   90.8250   90.5208   \n 2     5253520.0   90.8506   90.7900   90.7825   91.0050   90.6500   \n 3     4100028.0   90.7336   90.7790   90.8077   90.8675   90.5801   \n 4     2305344.0   90.6717   90.8025   90.5325   90.8350   90.5325   \n ...         ...       ...       ...       ...       ...       ...   \n 1593    10245.0  165.7449  165.7000  165.7400  165.8300  165.7000   \n 1594    24195.0  165.6886  165.7200  165.6700  165.7500  165.6601   \n 1595    16136.0  165.5629  165.6900  165.5100  165.6900  165.5100   \n 1596    34690.0  165.5061  165.5000  165.5600  165.5600  165.4400   \n 1597    25297.0  165.3864  165.5500  165.2600  165.5600  165.2500   \n \n                        t      n ticker  \n 0    2020-06-25 15:46:00   7661   AAPL  \n 1    2020-06-25 16:01:00  14160   AAPL  \n 2    2020-06-25 16:16:00  12877   AAPL  \n 3    2020-06-25 16:31:00  11044   AAPL  \n 4    2020-06-25 16:46:00   6695   AAPL  \n ...                  ...    ...    ...  \n 1593 2022-04-11 22:45:00    208   AAPL  \n 1594 2022-04-11 23:00:00    183   AAPL  \n 1595 2022-04-11 23:15:00    249   AAPL  \n 1596 2022-04-11 23:30:00    303   AAPL  \n 1597 2022-04-11 23:45:00    441   AAPL  \n \n [28606 rows x 9 columns]]"
     },
     "execution_count": 1,
     "metadata": {},
     "output_type": "execute_result"
    }
   ],
   "source": [
    "import json\n",
    "from get_data import get_data\n",
    "\n",
    "with open(\"config.json\", \"r\") as config_file:\n",
    "    config_data = json.load(config_file)\n",
    "\n",
    "get_data(config_data)"
   ]
  },
  {
   "cell_type": "code",
   "execution_count": null,
   "outputs": [],
   "source": [],
   "metadata": {
    "collapsed": false,
    "pycharm": {
     "name": "#%%\n"
    }
   }
  }
 ],
 "metadata": {
  "kernelspec": {
   "display_name": "Python 3",
   "language": "python",
   "name": "python3"
  },
  "language_info": {
   "codemirror_mode": {
    "name": "ipython",
    "version": 2
   },
   "file_extension": ".py",
   "mimetype": "text/x-python",
   "name": "python",
   "nbconvert_exporter": "python",
   "pygments_lexer": "ipython2",
   "version": "2.7.6"
  }
 },
 "nbformat": 4,
 "nbformat_minor": 0
}