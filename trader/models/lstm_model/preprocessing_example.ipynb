{
 "cells": [
  {
   "cell_type": "code",
   "execution_count": 2,
   "outputs": [],
   "source": [
    "import json\n",
    "from preprocessing import create_dataset_from_config"
   ],
   "metadata": {
    "collapsed": false,
    "pycharm": {
     "name": "#%%\n"
    }
   }
  },
  {
   "cell_type": "code",
   "execution_count": 3,
   "outputs": [
    {
     "name": "stdout",
     "output_type": "stream",
     "text": [
      "Result dataset length: 21461\n"
     ]
    },
    {
     "data": {
      "text/plain": "       volume     open    close     high      low                date ticker\n0   5035444.0  90.6575  90.9500  90.9575  90.6042 2020-06-25 19:37:00   AAPL\n1   8473984.0  90.9450  91.2250  91.2550  90.9050 2020-06-25 19:52:00   AAPL\n2    120732.0  91.2475  91.1250  91.2500  91.1050 2020-06-25 20:07:00   AAPL\n3     74984.0  91.1250  91.0000  91.1625  91.0000 2020-06-25 20:22:00   AAPL\n4     79656.0  91.0000  91.0950  91.1750  90.9700 2020-06-25 20:37:00   AAPL\n5     84888.0  91.0875  91.1375  91.1750  91.0875 2020-06-25 20:52:00   AAPL\n6    188344.0  91.1875  91.1875  91.2100  91.1875 2020-06-25 21:07:00   AAPL\n7     12652.0  91.1900  91.1200  91.2075  91.1200 2020-06-25 21:22:00   AAPL\n8    617316.0  91.1175  91.1750  91.1875  91.1100 2020-06-25 21:37:00   AAPL\n9     21128.0  91.1875  91.2475  91.2475  91.1125 2020-06-25 21:52:00   AAPL\n10    14616.0  91.1500  91.1700  91.2375  91.1325 2020-06-25 22:07:00   AAPL\n11    34988.0  91.1575  91.1750  91.2375  91.1575 2020-06-25 22:22:00   AAPL\n12    30096.0  91.1850  91.2000  91.2000  91.1250 2020-06-25 22:37:00   AAPL\n13     9132.0  91.2250  91.2200  91.2250  91.1975 2020-06-25 22:52:00   AAPL\n14     4132.0  91.1800  91.2050  91.2050  91.1800 2020-06-25 23:07:00   AAPL",
      "text/html": "<div>\n<style scoped>\n    .dataframe tbody tr th:only-of-type {\n        vertical-align: middle;\n    }\n\n    .dataframe tbody tr th {\n        vertical-align: top;\n    }\n\n    .dataframe thead th {\n        text-align: right;\n    }\n</style>\n<table border=\"1\" class=\"dataframe\">\n  <thead>\n    <tr style=\"text-align: right;\">\n      <th></th>\n      <th>volume</th>\n      <th>open</th>\n      <th>close</th>\n      <th>high</th>\n      <th>low</th>\n      <th>date</th>\n      <th>ticker</th>\n    </tr>\n  </thead>\n  <tbody>\n    <tr>\n      <th>0</th>\n      <td>5035444.0</td>\n      <td>90.6575</td>\n      <td>90.9500</td>\n      <td>90.9575</td>\n      <td>90.6042</td>\n      <td>2020-06-25 19:37:00</td>\n      <td>AAPL</td>\n    </tr>\n    <tr>\n      <th>1</th>\n      <td>8473984.0</td>\n      <td>90.9450</td>\n      <td>91.2250</td>\n      <td>91.2550</td>\n      <td>90.9050</td>\n      <td>2020-06-25 19:52:00</td>\n      <td>AAPL</td>\n    </tr>\n    <tr>\n      <th>2</th>\n      <td>120732.0</td>\n      <td>91.2475</td>\n      <td>91.1250</td>\n      <td>91.2500</td>\n      <td>91.1050</td>\n      <td>2020-06-25 20:07:00</td>\n      <td>AAPL</td>\n    </tr>\n    <tr>\n      <th>3</th>\n      <td>74984.0</td>\n      <td>91.1250</td>\n      <td>91.0000</td>\n      <td>91.1625</td>\n      <td>91.0000</td>\n      <td>2020-06-25 20:22:00</td>\n      <td>AAPL</td>\n    </tr>\n    <tr>\n      <th>4</th>\n      <td>79656.0</td>\n      <td>91.0000</td>\n      <td>91.0950</td>\n      <td>91.1750</td>\n      <td>90.9700</td>\n      <td>2020-06-25 20:37:00</td>\n      <td>AAPL</td>\n    </tr>\n    <tr>\n      <th>5</th>\n      <td>84888.0</td>\n      <td>91.0875</td>\n      <td>91.1375</td>\n      <td>91.1750</td>\n      <td>91.0875</td>\n      <td>2020-06-25 20:52:00</td>\n      <td>AAPL</td>\n    </tr>\n    <tr>\n      <th>6</th>\n      <td>188344.0</td>\n      <td>91.1875</td>\n      <td>91.1875</td>\n      <td>91.2100</td>\n      <td>91.1875</td>\n      <td>2020-06-25 21:07:00</td>\n      <td>AAPL</td>\n    </tr>\n    <tr>\n      <th>7</th>\n      <td>12652.0</td>\n      <td>91.1900</td>\n      <td>91.1200</td>\n      <td>91.2075</td>\n      <td>91.1200</td>\n      <td>2020-06-25 21:22:00</td>\n      <td>AAPL</td>\n    </tr>\n    <tr>\n      <th>8</th>\n      <td>617316.0</td>\n      <td>91.1175</td>\n      <td>91.1750</td>\n      <td>91.1875</td>\n      <td>91.1100</td>\n      <td>2020-06-25 21:37:00</td>\n      <td>AAPL</td>\n    </tr>\n    <tr>\n      <th>9</th>\n      <td>21128.0</td>\n      <td>91.1875</td>\n      <td>91.2475</td>\n      <td>91.2475</td>\n      <td>91.1125</td>\n      <td>2020-06-25 21:52:00</td>\n      <td>AAPL</td>\n    </tr>\n    <tr>\n      <th>10</th>\n      <td>14616.0</td>\n      <td>91.1500</td>\n      <td>91.1700</td>\n      <td>91.2375</td>\n      <td>91.1325</td>\n      <td>2020-06-25 22:07:00</td>\n      <td>AAPL</td>\n    </tr>\n    <tr>\n      <th>11</th>\n      <td>34988.0</td>\n      <td>91.1575</td>\n      <td>91.1750</td>\n      <td>91.2375</td>\n      <td>91.1575</td>\n      <td>2020-06-25 22:22:00</td>\n      <td>AAPL</td>\n    </tr>\n    <tr>\n      <th>12</th>\n      <td>30096.0</td>\n      <td>91.1850</td>\n      <td>91.2000</td>\n      <td>91.2000</td>\n      <td>91.1250</td>\n      <td>2020-06-25 22:37:00</td>\n      <td>AAPL</td>\n    </tr>\n    <tr>\n      <th>13</th>\n      <td>9132.0</td>\n      <td>91.2250</td>\n      <td>91.2200</td>\n      <td>91.2250</td>\n      <td>91.1975</td>\n      <td>2020-06-25 22:52:00</td>\n      <td>AAPL</td>\n    </tr>\n    <tr>\n      <th>14</th>\n      <td>4132.0</td>\n      <td>91.1800</td>\n      <td>91.2050</td>\n      <td>91.2050</td>\n      <td>91.1800</td>\n      <td>2020-06-25 23:07:00</td>\n      <td>AAPL</td>\n    </tr>\n  </tbody>\n</table>\n</div>"
     },
     "execution_count": 3,
     "metadata": {},
     "output_type": "execute_result"
    }
   ],
   "source": [
    "with open(\"config.json\", \"rb\") as config_file:\n",
    "    config_data = json.load(config_file)\n",
    "\n",
    "train_data = create_dataset_from_config(config_data)\n",
    "train_data[0]"
   ],
   "metadata": {
    "collapsed": false,
    "pycharm": {
     "name": "#%%\n"
    }
   }
  },
  {
   "cell_type": "code",
   "execution_count": 109,
   "outputs": [
    {
     "data": {
      "text/plain": "{'datasets': ['tickers_sample'],\n 'result_name': 'lstm_train_dataset',\n 'time_interval': 15,\n 'time_units': 'minute',\n 'window': 15,\n 'date_column': 'date'}"
     },
     "execution_count": 109,
     "metadata": {},
     "output_type": "execute_result"
    }
   ],
   "source": [],
   "metadata": {
    "collapsed": false,
    "pycharm": {
     "name": "#%%\n"
    }
   }
  }
 ],
 "metadata": {
  "kernelspec": {
   "name": "pycharm-1fd6c764",
   "language": "python",
   "display_name": "PyCharm (homeworks_basic)"
  },
  "language_info": {
   "codemirror_mode": {
    "name": "ipython",
    "version": 2
   },
   "file_extension": ".py",
   "mimetype": "text/x-python",
   "name": "python",
   "nbconvert_exporter": "python",
   "pygments_lexer": "ipython2",
   "version": "2.7.6"
  }
 },
 "nbformat": 4,
 "nbformat_minor": 0
}